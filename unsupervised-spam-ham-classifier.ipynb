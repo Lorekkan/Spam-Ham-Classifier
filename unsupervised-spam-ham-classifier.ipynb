{
 "cells": [
  {
   "cell_type": "code",
   "execution_count": 1,
   "id": "74a84b24",
   "metadata": {
    "_cell_guid": "b1076dfc-b9ad-4769-8c92-a6c4dae69d19",
    "_uuid": "8f2839f25d086af736a60e9eeb907d3b93b6e0e5",
    "execution": {
     "iopub.execute_input": "2024-09-19T19:19:46.864731Z",
     "iopub.status.busy": "2024-09-19T19:19:46.864119Z",
     "iopub.status.idle": "2024-09-19T19:19:47.332685Z",
     "shell.execute_reply": "2024-09-19T19:19:47.331005Z"
    },
    "papermill": {
     "duration": 0.485844,
     "end_time": "2024-09-19T19:19:47.336251",
     "exception": false,
     "start_time": "2024-09-19T19:19:46.850407",
     "status": "completed"
    },
    "tags": []
   },
   "outputs": [
    {
     "name": "stdout",
     "output_type": "stream",
     "text": [
      "/kaggle/input/spam-or-ham-a-dataset-for-email-classification/dataset/enron3.csv\n",
      "/kaggle/input/spam-or-ham-a-dataset-for-email-classification/dataset/enron2.csv\n",
      "/kaggle/input/spam-or-ham-a-dataset-for-email-classification/dataset/enron1.csv\n",
      "/kaggle/input/spam-or-ham-a-dataset-for-email-classification/dataset/enron4.csv\n",
      "/kaggle/input/spam-or-ham-a-dataset-for-email-classification/dataset/enron5.csv\n",
      "/kaggle/input/spam-or-ham-a-dataset-for-email-classification/dataset/enron6.csv\n",
      "/kaggle/input/spam-or-ham-a-dataset-for-email-classification/dataset/combined_enron.csv\n"
     ]
    }
   ],
   "source": [
    "# This Python 3 environment comes with many helpful analytics libraries installed\n",
    "# It is defined by the kaggle/python Docker image: https://github.com/kaggle/docker-python\n",
    "# For example, here's several helpful packages to load\n",
    "\n",
    "import numpy as np # linear algebra\n",
    "import pandas as pd # data processing, CSV file I/O (e.g. pd.read_csv)\n",
    "\n",
    "# Input data files are available in the read-only \"../input/\" directory\n",
    "# For example, running this (by clicking run or pressing Shift+Enter) will list all files under the input directory\n",
    "\n",
    "import os\n",
    "for dirname, _, filenames in os.walk('/kaggle/input'):\n",
    "    for filename in filenames:\n",
    "        print(os.path.join(dirname, filename))\n",
    "\n",
    "# You can write up to 20GB to the current directory (/kaggle/working/) that gets preserved as output when you create a version using \"Save & Run All\" \n",
    "# You can also write temporary files to /kaggle/temp/, but they won't be saved outside of the current session"
   ]
  },
  {
   "cell_type": "markdown",
   "id": "c69a9372",
   "metadata": {
    "papermill": {
     "duration": 0.009958,
     "end_time": "2024-09-19T19:19:47.356566",
     "exception": false,
     "start_time": "2024-09-19T19:19:47.346608",
     "status": "completed"
    },
    "tags": []
   },
   "source": [
    "# Imports\n",
    "Firstly, all necessary libraries are imported."
   ]
  },
  {
   "cell_type": "code",
   "execution_count": 2,
   "id": "2ba1d71e",
   "metadata": {
    "execution": {
     "iopub.execute_input": "2024-09-19T19:19:47.378822Z",
     "iopub.status.busy": "2024-09-19T19:19:47.377862Z",
     "iopub.status.idle": "2024-09-19T19:19:49.786158Z",
     "shell.execute_reply": "2024-09-19T19:19:49.785098Z"
    },
    "papermill": {
     "duration": 2.422726,
     "end_time": "2024-09-19T19:19:49.788997",
     "exception": false,
     "start_time": "2024-09-19T19:19:47.366271",
     "status": "completed"
    },
    "tags": []
   },
   "outputs": [],
   "source": [
    "import matplotlib.pyplot as plt\n",
    "from sklearn.model_selection import train_test_split\n",
    "from sklearn.feature_extraction.text import TfidfVectorizer\n",
    "from sklearn.decomposition import TruncatedSVD\n",
    "from sklearn.cluster import KMeans\n",
    "from scipy.stats import mode\n",
    "import seaborn as sns\n",
    "from sklearn.metrics import classification_report, confusion_matrix\n",
    "import warnings\n",
    "#warnings.filterwarnings('ignore')"
   ]
  },
  {
   "cell_type": "markdown",
   "id": "fd04b77b",
   "metadata": {
    "papermill": {
     "duration": 0.009411,
     "end_time": "2024-09-19T19:19:49.808237",
     "exception": false,
     "start_time": "2024-09-19T19:19:49.798826",
     "status": "completed"
    },
    "tags": []
   },
   "source": [
    "# Data Retrieval\n",
    "We retrieve e-mail data for spam and ham classification with the help of pandas library."
   ]
  },
  {
   "cell_type": "code",
   "execution_count": 3,
   "id": "9b64efaa",
   "metadata": {
    "execution": {
     "iopub.execute_input": "2024-09-19T19:19:49.829719Z",
     "iopub.status.busy": "2024-09-19T19:19:49.829118Z",
     "iopub.status.idle": "2024-09-19T19:19:51.101632Z",
     "shell.execute_reply": "2024-09-19T19:19:51.099796Z"
    },
    "papermill": {
     "duration": 1.28666,
     "end_time": "2024-09-19T19:19:51.104665",
     "exception": false,
     "start_time": "2024-09-19T19:19:49.818005",
     "status": "completed"
    },
    "tags": []
   },
   "outputs": [],
   "source": [
    "df = pd.read_csv(\"/kaggle/input/spam-or-ham-a-dataset-for-email-classification/dataset/combined_enron.csv\")"
   ]
  },
  {
   "cell_type": "markdown",
   "id": "c834b6d2",
   "metadata": {
    "papermill": {
     "duration": 0.009803,
     "end_time": "2024-09-19T19:19:51.127563",
     "exception": false,
     "start_time": "2024-09-19T19:19:51.117760",
     "status": "completed"
    },
    "tags": []
   },
   "source": [
    "# Numerical EDA"
   ]
  },
  {
   "cell_type": "code",
   "execution_count": 4,
   "id": "61c4675b",
   "metadata": {
    "execution": {
     "iopub.execute_input": "2024-09-19T19:19:51.151921Z",
     "iopub.status.busy": "2024-09-19T19:19:51.150533Z",
     "iopub.status.idle": "2024-09-19T19:19:51.193589Z",
     "shell.execute_reply": "2024-09-19T19:19:51.192120Z"
    },
    "papermill": {
     "duration": 0.05854,
     "end_time": "2024-09-19T19:19:51.196429",
     "exception": false,
     "start_time": "2024-09-19T19:19:51.137889",
     "status": "completed"
    },
    "tags": []
   },
   "outputs": [
    {
     "name": "stdout",
     "output_type": "stream",
     "text": [
      "<class 'pandas.core.frame.DataFrame'>\n",
      "RangeIndex: 33702 entries, 0 to 33701\n",
      "Data columns (total 3 columns):\n",
      " #   Column     Non-Null Count  Dtype \n",
      "---  ------     --------------  ----- \n",
      " 0   label      33702 non-null  object\n",
      " 1   label_num  33702 non-null  int64 \n",
      " 2   text       33702 non-null  object\n",
      "dtypes: int64(1), object(2)\n",
      "memory usage: 790.0+ KB\n"
     ]
    }
   ],
   "source": [
    "df.info()"
   ]
  },
  {
   "cell_type": "markdown",
   "id": "6d2f8bdc",
   "metadata": {
    "papermill": {
     "duration": 0.009694,
     "end_time": "2024-09-19T19:19:51.216168",
     "exception": false,
     "start_time": "2024-09-19T19:19:51.206474",
     "status": "completed"
    },
    "tags": []
   },
   "source": [
    "We have 33702 e-mail entries. Each e-mail entry has 3 cloumns. \"label\" column keeps the spam-ham classification. \"label_num\" column also keeps the spam-ham classification but in integer format as 1 representing spam and 0 representing ham. \"text\" column keeps the contents of the e-mail."
   ]
  },
  {
   "cell_type": "code",
   "execution_count": 5,
   "id": "569fc3e3",
   "metadata": {
    "execution": {
     "iopub.execute_input": "2024-09-19T19:19:51.238504Z",
     "iopub.status.busy": "2024-09-19T19:19:51.237999Z",
     "iopub.status.idle": "2024-09-19T19:19:51.268462Z",
     "shell.execute_reply": "2024-09-19T19:19:51.267219Z"
    },
    "papermill": {
     "duration": 0.045008,
     "end_time": "2024-09-19T19:19:51.271546",
     "exception": false,
     "start_time": "2024-09-19T19:19:51.226538",
     "status": "completed"
    },
    "tags": []
   },
   "outputs": [
    {
     "data": {
      "text/html": [
       "<div>\n",
       "<style scoped>\n",
       "    .dataframe tbody tr th:only-of-type {\n",
       "        vertical-align: middle;\n",
       "    }\n",
       "\n",
       "    .dataframe tbody tr th {\n",
       "        vertical-align: top;\n",
       "    }\n",
       "\n",
       "    .dataframe thead th {\n",
       "        text-align: right;\n",
       "    }\n",
       "</style>\n",
       "<table border=\"1\" class=\"dataframe\">\n",
       "  <thead>\n",
       "    <tr style=\"text-align: right;\">\n",
       "      <th></th>\n",
       "      <th>label_num</th>\n",
       "    </tr>\n",
       "  </thead>\n",
       "  <tbody>\n",
       "    <tr>\n",
       "      <th>count</th>\n",
       "      <td>33702.000000</td>\n",
       "    </tr>\n",
       "    <tr>\n",
       "      <th>mean</th>\n",
       "      <td>0.509080</td>\n",
       "    </tr>\n",
       "    <tr>\n",
       "      <th>std</th>\n",
       "      <td>0.499925</td>\n",
       "    </tr>\n",
       "    <tr>\n",
       "      <th>min</th>\n",
       "      <td>0.000000</td>\n",
       "    </tr>\n",
       "    <tr>\n",
       "      <th>25%</th>\n",
       "      <td>0.000000</td>\n",
       "    </tr>\n",
       "    <tr>\n",
       "      <th>50%</th>\n",
       "      <td>1.000000</td>\n",
       "    </tr>\n",
       "    <tr>\n",
       "      <th>75%</th>\n",
       "      <td>1.000000</td>\n",
       "    </tr>\n",
       "    <tr>\n",
       "      <th>max</th>\n",
       "      <td>1.000000</td>\n",
       "    </tr>\n",
       "  </tbody>\n",
       "</table>\n",
       "</div>"
      ],
      "text/plain": [
       "          label_num\n",
       "count  33702.000000\n",
       "mean       0.509080\n",
       "std        0.499925\n",
       "min        0.000000\n",
       "25%        0.000000\n",
       "50%        1.000000\n",
       "75%        1.000000\n",
       "max        1.000000"
      ]
     },
     "execution_count": 5,
     "metadata": {},
     "output_type": "execute_result"
    }
   ],
   "source": [
    "df.describe()"
   ]
  },
  {
   "cell_type": "markdown",
   "id": "3db45738",
   "metadata": {
    "papermill": {
     "duration": 0.010107,
     "end_time": "2024-09-19T19:19:51.292296",
     "exception": false,
     "start_time": "2024-09-19T19:19:51.282189",
     "status": "completed"
    },
    "tags": []
   },
   "source": [
    "With the describe method from pandas library, we can observe that almost half of the dataset consists of spam e-mails and the majority of e-mails are spam."
   ]
  },
  {
   "cell_type": "code",
   "execution_count": 6,
   "id": "6ddb397c",
   "metadata": {
    "execution": {
     "iopub.execute_input": "2024-09-19T19:19:51.314488Z",
     "iopub.status.busy": "2024-09-19T19:19:51.314060Z",
     "iopub.status.idle": "2024-09-19T19:19:51.326368Z",
     "shell.execute_reply": "2024-09-19T19:19:51.325219Z"
    },
    "papermill": {
     "duration": 0.026383,
     "end_time": "2024-09-19T19:19:51.328880",
     "exception": false,
     "start_time": "2024-09-19T19:19:51.302497",
     "status": "completed"
    },
    "tags": []
   },
   "outputs": [
    {
     "data": {
      "text/html": [
       "<div>\n",
       "<style scoped>\n",
       "    .dataframe tbody tr th:only-of-type {\n",
       "        vertical-align: middle;\n",
       "    }\n",
       "\n",
       "    .dataframe tbody tr th {\n",
       "        vertical-align: top;\n",
       "    }\n",
       "\n",
       "    .dataframe thead th {\n",
       "        text-align: right;\n",
       "    }\n",
       "</style>\n",
       "<table border=\"1\" class=\"dataframe\">\n",
       "  <thead>\n",
       "    <tr style=\"text-align: right;\">\n",
       "      <th></th>\n",
       "      <th>label</th>\n",
       "      <th>label_num</th>\n",
       "      <th>text</th>\n",
       "    </tr>\n",
       "  </thead>\n",
       "  <tbody>\n",
       "    <tr>\n",
       "      <th>0</th>\n",
       "      <td>ham</td>\n",
       "      <td>0</td>\n",
       "      <td>subject fw weather sites this is the list of w...</td>\n",
       "    </tr>\n",
       "    <tr>\n",
       "      <th>1</th>\n",
       "      <td>spam</td>\n",
       "      <td>1</td>\n",
       "      <td>subject i cant believe the changma wow wow wow...</td>\n",
       "    </tr>\n",
       "    <tr>\n",
       "      <th>2</th>\n",
       "      <td>spam</td>\n",
       "      <td>1</td>\n",
       "      <td>subject 4 color printing special request addit...</td>\n",
       "    </tr>\n",
       "    <tr>\n",
       "      <th>3</th>\n",
       "      <td>spam</td>\n",
       "      <td>1</td>\n",
       "      <td>subject nobody can beat us poloponybreakaway i...</td>\n",
       "    </tr>\n",
       "    <tr>\n",
       "      <th>4</th>\n",
       "      <td>ham</td>\n",
       "      <td>0</td>\n",
       "      <td>subject energy extravaganza 2 weeks away energ...</td>\n",
       "    </tr>\n",
       "  </tbody>\n",
       "</table>\n",
       "</div>"
      ],
      "text/plain": [
       "  label  label_num                                               text\n",
       "0   ham          0  subject fw weather sites this is the list of w...\n",
       "1  spam          1  subject i cant believe the changma wow wow wow...\n",
       "2  spam          1  subject 4 color printing special request addit...\n",
       "3  spam          1  subject nobody can beat us poloponybreakaway i...\n",
       "4   ham          0  subject energy extravaganza 2 weeks away energ..."
      ]
     },
     "execution_count": 6,
     "metadata": {},
     "output_type": "execute_result"
    }
   ],
   "source": [
    "df.head()"
   ]
  },
  {
   "cell_type": "markdown",
   "id": "66422290",
   "metadata": {
    "papermill": {
     "duration": 0.010067,
     "end_time": "2024-09-19T19:19:51.350181",
     "exception": false,
     "start_time": "2024-09-19T19:19:51.340114",
     "status": "completed"
    },
    "tags": []
   },
   "source": [
    "First 5 entries in the dataset are shown above as an example."
   ]
  },
  {
   "cell_type": "markdown",
   "id": "6d101c6c",
   "metadata": {
    "papermill": {
     "duration": 0.010064,
     "end_time": "2024-09-19T19:19:51.370711",
     "exception": false,
     "start_time": "2024-09-19T19:19:51.360647",
     "status": "completed"
    },
    "tags": []
   },
   "source": [
    "# Visual EDA"
   ]
  },
  {
   "cell_type": "code",
   "execution_count": 7,
   "id": "9a2f1471",
   "metadata": {
    "execution": {
     "iopub.execute_input": "2024-09-19T19:19:51.394106Z",
     "iopub.status.busy": "2024-09-19T19:19:51.393605Z",
     "iopub.status.idle": "2024-09-19T19:19:51.702693Z",
     "shell.execute_reply": "2024-09-19T19:19:51.701213Z"
    },
    "papermill": {
     "duration": 0.324274,
     "end_time": "2024-09-19T19:19:51.705773",
     "exception": false,
     "start_time": "2024-09-19T19:19:51.381499",
     "status": "completed"
    },
    "tags": []
   },
   "outputs": [
    {
     "data": {
      "image/png": "[encoded data removed]",
      "text/plain": [
       "<Figure size 640x480 with 1 Axes>"
      ]
     },
     "metadata": {},
     "output_type": "display_data"
    }
   ],
   "source": [
    "plt.figure()\n",
    "sns.countplot(x=\"label\", data=df, palette=\"RdBu\")\n",
    "plt.xticks([0, 1], [\"Ham\", \"Spam\"])\n",
    "plt.show()"
   ]
  },
  {
   "cell_type": "markdown",
   "id": "234371a4",
   "metadata": {
    "papermill": {
     "duration": 0.010876,
     "end_time": "2024-09-19T19:19:51.727567",
     "exception": false,
     "start_time": "2024-09-19T19:19:51.716691",
     "status": "completed"
    },
    "tags": []
   },
   "source": [
    "With the help of visual EDA, we can conclude the same result with numerical EDA. There are a little more spam e-mails then ham e-mails. Also, there is no corrupted or unexpected data."
   ]
  },
  {
   "cell_type": "markdown",
   "id": "c0a0e2b6",
   "metadata": {
    "papermill": {
     "duration": 0.010397,
     "end_time": "2024-09-19T19:19:51.748597",
     "exception": false,
     "start_time": "2024-09-19T19:19:51.738200",
     "status": "completed"
    },
    "tags": []
   },
   "source": [
    "# Data Preprocessing"
   ]
  },
  {
   "cell_type": "code",
   "execution_count": 8,
   "id": "a37eea03",
   "metadata": {
    "execution": {
     "iopub.execute_input": "2024-09-19T19:19:51.772228Z",
     "iopub.status.busy": "2024-09-19T19:19:51.771251Z",
     "iopub.status.idle": "2024-09-19T19:19:54.410407Z",
     "shell.execute_reply": "2024-09-19T19:19:54.408758Z"
    },
    "papermill": {
     "duration": 2.654536,
     "end_time": "2024-09-19T19:19:54.413718",
     "exception": false,
     "start_time": "2024-09-19T19:19:51.759182",
     "status": "completed"
    },
    "tags": []
   },
   "outputs": [],
   "source": [
    "for index, row in df.iterrows():\n",
    "    if row[\"label\"] == \"spam\" and row[\"label_num\"] != 1:\n",
    "        row[\"label_num\"] = 1\n",
    "        print(\"Changed\")\n",
    "    elif row[\"label\"] == \"ham\" and row[\"label_num\"] != 0:\n",
    "        row[\"label_num\"] = 0\n",
    "        print(\"Changed\")"
   ]
  },
  {
   "cell_type": "markdown",
   "id": "ff3a4475",
   "metadata": {
    "papermill": {
     "duration": 0.010601,
     "end_time": "2024-09-19T19:19:54.436122",
     "exception": false,
     "start_time": "2024-09-19T19:19:54.425521",
     "status": "completed"
    },
    "tags": []
   },
   "source": [
    "Just to be sure with the number labeling all rows are checked in a loop and changed if they are wrong for any reason. label_num data seems to be intact since \"Changed\" string hasn't been printed even once. Now we can safely remove the label column."
   ]
  },
  {
   "cell_type": "code",
   "execution_count": 9,
   "id": "45ba0e35",
   "metadata": {
    "execution": {
     "iopub.execute_input": "2024-09-19T19:19:54.460713Z",
     "iopub.status.busy": "2024-09-19T19:19:54.460224Z",
     "iopub.status.idle": "2024-09-19T19:19:54.478429Z",
     "shell.execute_reply": "2024-09-19T19:19:54.476901Z"
    },
    "papermill": {
     "duration": 0.035009,
     "end_time": "2024-09-19T19:19:54.481921",
     "exception": false,
     "start_time": "2024-09-19T19:19:54.446912",
     "status": "completed"
    },
    "tags": []
   },
   "outputs": [
    {
     "data": {
      "text/html": [
       "<div>\n",
       "<style scoped>\n",
       "    .dataframe tbody tr th:only-of-type {\n",
       "        vertical-align: middle;\n",
       "    }\n",
       "\n",
       "    .dataframe tbody tr th {\n",
       "        vertical-align: top;\n",
       "    }\n",
       "\n",
       "    .dataframe thead th {\n",
       "        text-align: right;\n",
       "    }\n",
       "</style>\n",
       "<table border=\"1\" class=\"dataframe\">\n",
       "  <thead>\n",
       "    <tr style=\"text-align: right;\">\n",
       "      <th></th>\n",
       "      <th>label_num</th>\n",
       "      <th>text</th>\n",
       "    </tr>\n",
       "  </thead>\n",
       "  <tbody>\n",
       "    <tr>\n",
       "      <th>0</th>\n",
       "      <td>0</td>\n",
       "      <td>subject fw weather sites this is the list of w...</td>\n",
       "    </tr>\n",
       "    <tr>\n",
       "      <th>1</th>\n",
       "      <td>1</td>\n",
       "      <td>subject i cant believe the changma wow wow wow...</td>\n",
       "    </tr>\n",
       "    <tr>\n",
       "      <th>2</th>\n",
       "      <td>1</td>\n",
       "      <td>subject 4 color printing special request addit...</td>\n",
       "    </tr>\n",
       "    <tr>\n",
       "      <th>3</th>\n",
       "      <td>1</td>\n",
       "      <td>subject nobody can beat us poloponybreakaway i...</td>\n",
       "    </tr>\n",
       "    <tr>\n",
       "      <th>4</th>\n",
       "      <td>0</td>\n",
       "      <td>subject energy extravaganza 2 weeks away energ...</td>\n",
       "    </tr>\n",
       "  </tbody>\n",
       "</table>\n",
       "</div>"
      ],
      "text/plain": [
       "   label_num                                               text\n",
       "0          0  subject fw weather sites this is the list of w...\n",
       "1          1  subject i cant believe the changma wow wow wow...\n",
       "2          1  subject 4 color printing special request addit...\n",
       "3          1  subject nobody can beat us poloponybreakaway i...\n",
       "4          0  subject energy extravaganza 2 weeks away energ..."
      ]
     },
     "execution_count": 9,
     "metadata": {},
     "output_type": "execute_result"
    }
   ],
   "source": [
    "df = df.drop(\"label\", axis=1)\n",
    "df.head()"
   ]
  },
  {
   "cell_type": "markdown",
   "id": "02fbeed4",
   "metadata": {
    "papermill": {
     "duration": 0.010655,
     "end_time": "2024-09-19T19:19:54.504470",
     "exception": false,
     "start_time": "2024-09-19T19:19:54.493815",
     "status": "completed"
    },
    "tags": []
   },
   "source": [
    "# Vectorizer\n",
    "We need to vectorize the text data to be able to use it in our machine learning computations."
   ]
  },
  {
   "cell_type": "code",
   "execution_count": 10,
   "id": "10e92af3",
   "metadata": {
    "execution": {
     "iopub.execute_input": "2024-09-19T19:19:54.529297Z",
     "iopub.status.busy": "2024-09-19T19:19:54.528853Z",
     "iopub.status.idle": "2024-09-19T19:20:17.199521Z",
     "shell.execute_reply": "2024-09-19T19:20:17.198121Z"
    },
    "papermill": {
     "duration": 22.686071,
     "end_time": "2024-09-19T19:20:17.202104",
     "exception": false,
     "start_time": "2024-09-19T19:19:54.516033",
     "status": "completed"
    },
    "tags": []
   },
   "outputs": [
    {
     "data": {
      "text/plain": [
       "array([[0., 0., 0., ..., 0., 0., 0.],\n",
       "       [0., 0., 0., ..., 0., 0., 0.],\n",
       "       [0., 0., 0., ..., 0., 0., 0.],\n",
       "       ...,\n",
       "       [0., 0., 0., ..., 0., 0., 0.],\n",
       "       [0., 0., 0., ..., 0., 0., 0.],\n",
       "       [0., 0., 0., ..., 0., 0., 0.]])"
      ]
     },
     "execution_count": 10,
     "metadata": {},
     "output_type": "execute_result"
    }
   ],
   "source": [
    "vectorizer = TfidfVectorizer(stop_words=\"english\")\n",
    "vec = vectorizer.fit_transform(df[\"text\"])\n",
    "vec.toarray()"
   ]
  },
  {
   "cell_type": "markdown",
   "id": "bbfe8a37",
   "metadata": {
    "papermill": {
     "duration": 0.01137,
     "end_time": "2024-09-19T19:20:17.225266",
     "exception": false,
     "start_time": "2024-09-19T19:20:17.213896",
     "status": "completed"
    },
    "tags": []
   },
   "source": [
    "# Train-Test Split\n",
    "30% of data is split as test data. We won't need labels while model fitting but splitting the data still helps."
   ]
  },
  {
   "cell_type": "code",
   "execution_count": 11,
   "id": "4bf4a990",
   "metadata": {
    "execution": {
     "iopub.execute_input": "2024-09-19T19:20:17.250228Z",
     "iopub.status.busy": "2024-09-19T19:20:17.249788Z",
     "iopub.status.idle": "2024-09-19T19:20:17.274208Z",
     "shell.execute_reply": "2024-09-19T19:20:17.272933Z"
    },
    "papermill": {
     "duration": 0.039735,
     "end_time": "2024-09-19T19:20:17.277092",
     "exception": false,
     "start_time": "2024-09-19T19:20:17.237357",
     "status": "completed"
    },
    "tags": []
   },
   "outputs": [],
   "source": [
    "y = df[\"label_num\"]\n",
    "X = vec\n",
    "X_train, X_test, y_train, y_test = train_test_split(X, y, test_size=0.3, random_state=42)"
   ]
  },
  {
   "cell_type": "code",
   "execution_count": 12,
   "id": "5cf4301a",
   "metadata": {
    "execution": {
     "iopub.execute_input": "2024-09-19T19:20:17.301345Z",
     "iopub.status.busy": "2024-09-19T19:20:17.300894Z",
     "iopub.status.idle": "2024-09-19T19:20:18.190831Z",
     "shell.execute_reply": "2024-09-19T19:20:18.189571Z"
    },
    "papermill": {
     "duration": 0.905645,
     "end_time": "2024-09-19T19:20:18.193821",
     "exception": false,
     "start_time": "2024-09-19T19:20:17.288176",
     "status": "completed"
    },
    "tags": []
   },
   "outputs": [],
   "source": [
    "svd = TruncatedSVD(n_components=2)\n",
    "X_train_svd = svd.fit_transform(X_train)\n",
    "X_test_svd = svd.transform(X_test)"
   ]
  },
  {
   "cell_type": "markdown",
   "id": "e6c6ef31",
   "metadata": {
    "papermill": {
     "duration": 0.011138,
     "end_time": "2024-09-19T19:20:18.216463",
     "exception": false,
     "start_time": "2024-09-19T19:20:18.205325",
     "status": "completed"
    },
    "tags": []
   },
   "source": [
    "# K-Means Clustering\n",
    "We don't need to observe inertia values as we only have 2 labels. We can simply select the cluster number as 2. We can use first 23600 data points as training points to so that almost 70% of the data is used for this reason."
   ]
  },
  {
   "cell_type": "code",
   "execution_count": 13,
   "id": "2897aab1",
   "metadata": {
    "execution": {
     "iopub.execute_input": "2024-09-19T19:20:18.243735Z",
     "iopub.status.busy": "2024-09-19T19:20:18.243253Z",
     "iopub.status.idle": "2024-09-19T19:20:19.404459Z",
     "shell.execute_reply": "2024-09-19T19:20:19.403448Z"
    },
    "papermill": {
     "duration": 1.179115,
     "end_time": "2024-09-19T19:20:19.407605",
     "exception": false,
     "start_time": "2024-09-19T19:20:18.228490",
     "status": "completed"
    },
    "tags": []
   },
   "outputs": [
    {
     "name": "stderr",
     "output_type": "stream",
     "text": [
      "/opt/conda/lib/python3.10/site-packages/sklearn/cluster/_kmeans.py:870: FutureWarning: The default value of `n_init` will change from 10 to 'auto' in 1.4. Set the value of `n_init` explicitly to suppress the warning\n",
      "  warnings.warn(\n"
     ]
    }
   ],
   "source": [
    "kmeans = KMeans(n_clusters=2)\n",
    "kmeans.fit(X_train_svd)\n",
    "y_pred = kmeans.predict(X_test_svd)"
   ]
  },
  {
   "cell_type": "markdown",
   "id": "e6086214",
   "metadata": {
    "papermill": {
     "duration": 0.011593,
     "end_time": "2024-09-19T19:20:19.433103",
     "exception": false,
     "start_time": "2024-09-19T19:20:19.421510",
     "status": "completed"
    },
    "tags": []
   },
   "source": [
    "Below is the implementation of align_clusters method. It determines which cluster is which according to majority vote. Then, this method is invoked after its definition."
   ]
  },
  {
   "cell_type": "code",
   "execution_count": 14,
   "id": "86445cd4",
   "metadata": {
    "execution": {
     "iopub.execute_input": "2024-09-19T19:20:19.457357Z",
     "iopub.status.busy": "2024-09-19T19:20:19.456833Z",
     "iopub.status.idle": "2024-09-19T19:20:19.467744Z",
     "shell.execute_reply": "2024-09-19T19:20:19.466446Z"
    },
    "papermill": {
     "duration": 0.026457,
     "end_time": "2024-09-19T19:20:19.470731",
     "exception": false,
     "start_time": "2024-09-19T19:20:19.444274",
     "status": "completed"
    },
    "tags": []
   },
   "outputs": [],
   "source": [
    "def align_clusters(y_true, y_pred):\n",
    "    labels = np.zeros_like(y_pred)\n",
    "    for i in np.unique(y_pred):\n",
    "        mask = (y_pred == i)\n",
    "        labels[mask] = mode(y_true[mask])[0]\n",
    "    return labels\n",
    "y_pred_aligned = align_clusters(y_test, y_pred)"
   ]
  },
  {
   "cell_type": "markdown",
   "id": "95b5207f",
   "metadata": {
    "papermill": {
     "duration": 0.010926,
     "end_time": "2024-09-19T19:20:19.492973",
     "exception": false,
     "start_time": "2024-09-19T19:20:19.482047",
     "status": "completed"
    },
    "tags": []
   },
   "source": [
    "# Results"
   ]
  },
  {
   "cell_type": "code",
   "execution_count": 15,
   "id": "5ff11aa9",
   "metadata": {
    "execution": {
     "iopub.execute_input": "2024-09-19T19:20:19.517550Z",
     "iopub.status.busy": "2024-09-19T19:20:19.517073Z",
     "iopub.status.idle": "2024-09-19T19:20:20.040695Z",
     "shell.execute_reply": "2024-09-19T19:20:20.039261Z"
    },
    "papermill": {
     "duration": 0.539486,
     "end_time": "2024-09-19T19:20:20.043898",
     "exception": false,
     "start_time": "2024-09-19T19:20:19.504412",
     "status": "completed"
    },
    "tags": []
   },
   "outputs": [
    {
     "data": {
      "image/png": "[encoded data removed]",
      "text/plain": [
       "<Figure size 800x600 with 1 Axes>"
      ]
     },
     "metadata": {},
     "output_type": "display_data"
    }
   ],
   "source": [
    "plt.figure(figsize=(8, 6))\n",
    "plt.scatter(X_test_svd[y_pred_aligned == 0, 0], X_test_svd[y_pred_aligned == 0, 1], \n",
    "            s=50, c='red', label='Ham')\n",
    "plt.scatter(X_test_svd[y_pred_aligned == 1, 0], X_test_svd[y_pred_aligned == 1, 1], \n",
    "            s=50, c='blue', label='Spam')\n",
    "centroids_2d = kmeans.cluster_centers_\n",
    "plt.scatter(centroids_2d[:, 0], centroids_2d[:, 1], marker='D', s=200, c='yellow', label='Centroids')\n",
    "plt.title('K-Means Clustering of Emails (2D Truncated SVD)')\n",
    "plt.xlabel('SVD Component 1')\n",
    "plt.ylabel('SVD Component 2')\n",
    "plt.legend()\n",
    "plt.show()"
   ]
  },
  {
   "cell_type": "markdown",
   "id": "fb5f11f2",
   "metadata": {
    "papermill": {
     "duration": 0.011699,
     "end_time": "2024-09-19T19:20:20.067479",
     "exception": false,
     "start_time": "2024-09-19T19:20:20.055780",
     "status": "completed"
    },
    "tags": []
   },
   "source": [
    "Clusters can be seen with their centroids on a 2D plane above. We see clusters aren't intertwined at any area. This is the result of TfidfVectorizer."
   ]
  },
  {
   "cell_type": "code",
   "execution_count": 16,
   "id": "ef56ba5c",
   "metadata": {
    "execution": {
     "iopub.execute_input": "2024-09-19T19:20:20.093683Z",
     "iopub.status.busy": "2024-09-19T19:20:20.093166Z",
     "iopub.status.idle": "2024-09-19T19:20:20.449404Z",
     "shell.execute_reply": "2024-09-19T19:20:20.447939Z"
    },
    "papermill": {
     "duration": 0.37269,
     "end_time": "2024-09-19T19:20:20.452289",
     "exception": false,
     "start_time": "2024-09-19T19:20:20.079599",
     "status": "completed"
    },
    "tags": []
   },
   "outputs": [
    {
     "data": {
      "image/png": "[encoded data removed]",
      "text/plain": [
       "<Figure size 800x600 with 2 Axes>"
      ]
     },
     "metadata": {},
     "output_type": "display_data"
    },
    {
     "data": {
      "text/html": [
       "<div>\n",
       "<style scoped>\n",
       "    .dataframe tbody tr th:only-of-type {\n",
       "        vertical-align: middle;\n",
       "    }\n",
       "\n",
       "    .dataframe tbody tr th {\n",
       "        vertical-align: top;\n",
       "    }\n",
       "\n",
       "    .dataframe thead th {\n",
       "        text-align: right;\n",
       "    }\n",
       "</style>\n",
       "<table border=\"1\" class=\"dataframe\">\n",
       "  <thead>\n",
       "    <tr style=\"text-align: right;\">\n",
       "      <th></th>\n",
       "      <th>precision</th>\n",
       "      <th>recall</th>\n",
       "      <th>f1-score</th>\n",
       "      <th>support</th>\n",
       "    </tr>\n",
       "  </thead>\n",
       "  <tbody>\n",
       "    <tr>\n",
       "      <th>0</th>\n",
       "      <td>1.000000</td>\n",
       "      <td>0.040121</td>\n",
       "      <td>0.077147</td>\n",
       "      <td>4960.000000</td>\n",
       "    </tr>\n",
       "    <tr>\n",
       "      <th>1</th>\n",
       "      <td>0.519673</td>\n",
       "      <td>1.000000</td>\n",
       "      <td>0.683928</td>\n",
       "      <td>5151.000000</td>\n",
       "    </tr>\n",
       "    <tr>\n",
       "      <th>accuracy</th>\n",
       "      <td>0.529127</td>\n",
       "      <td>0.529127</td>\n",
       "      <td>0.529127</td>\n",
       "      <td>0.529127</td>\n",
       "    </tr>\n",
       "    <tr>\n",
       "      <th>macro avg</th>\n",
       "      <td>0.759837</td>\n",
       "      <td>0.520060</td>\n",
       "      <td>0.380537</td>\n",
       "      <td>10111.000000</td>\n",
       "    </tr>\n",
       "    <tr>\n",
       "      <th>weighted avg</th>\n",
       "      <td>0.755300</td>\n",
       "      <td>0.529127</td>\n",
       "      <td>0.386268</td>\n",
       "      <td>10111.000000</td>\n",
       "    </tr>\n",
       "  </tbody>\n",
       "</table>\n",
       "</div>"
      ],
      "text/plain": [
       "              precision    recall  f1-score       support\n",
       "0              1.000000  0.040121  0.077147   4960.000000\n",
       "1              0.519673  1.000000  0.683928   5151.000000\n",
       "accuracy       0.529127  0.529127  0.529127      0.529127\n",
       "macro avg      0.759837  0.520060  0.380537  10111.000000\n",
       "weighted avg   0.755300  0.529127  0.386268  10111.000000"
      ]
     },
     "execution_count": 16,
     "metadata": {},
     "output_type": "execute_result"
    }
   ],
   "source": [
    "cm = confusion_matrix(y_test, y_pred_aligned)\n",
    "plt.figure(figsize=(8, 6))\n",
    "sns.heatmap(cm, annot=True, fmt='d', cmap='Blues', xticklabels=['Pred Ham', 'Pred Spam'], yticklabels=['True Ham', 'True Spam'])\n",
    "plt.xlabel('Predicted')\n",
    "plt.ylabel('True')\n",
    "plt.title('Confusion Matrix')\n",
    "plt.show()\n",
    "cr = classification_report(y_test, y_pred_aligned, output_dict=True)\n",
    "cr_df = pd.DataFrame(cr).transpose()\n",
    "cr_df"
   ]
  },
  {
   "cell_type": "markdown",
   "id": "86b7248f",
   "metadata": {
    "papermill": {
     "duration": 0.012338,
     "end_time": "2024-09-19T19:20:20.477516",
     "exception": false,
     "start_time": "2024-09-19T19:20:20.465178",
     "status": "completed"
    },
    "tags": []
   },
   "source": [
    "K-Means Clustering model predicted the labels with 53% accuracy. Confusion matrix and classification report are shown above."
   ]
  },
  {
   "cell_type": "markdown",
   "id": "6ef80277",
   "metadata": {
    "papermill": {
     "duration": 0.012536,
     "end_time": "2024-09-19T19:20:20.502983",
     "exception": false,
     "start_time": "2024-09-19T19:20:20.490447",
     "status": "completed"
    },
    "tags": []
   },
   "source": [
    "# Conclusion\n",
    "We can conclude that K-Means Clustering algorithm isn't a good model for this dataset. Its accuracy is extremely low and it labeled almost every e-mail as spam. Only good thing it achieved was labeling every true spam e-mails as spam e-mails. This result might have multiple reasons. Firstly, none of our data had continuous variables. K-Means Clustering seems to be working better with continuous data. Secondly, we created too many dimensions at the same time from our data and then reduce them to 2 too fast. We might have lost some knowledge in the process. Thirdly, relation between our data might be low. Therefore, seeing a trend among them could be hard. Overall, K-Means Clustering algorithm doesn't seem to be an appropriate model at least for this data if not for any e-mail spam/ham classifiers. It is suggested to do more data preprocessing to reach to a better conclusion."
   ]
  }
 ],
 "metadata": {
  "kaggle": {
   "accelerator": "none",
   "dataSources": [
    {
     "datasetId": 4998178,
     "sourceId": 8400519,
     "sourceType": "datasetVersion"
    }
   ],
   "dockerImageVersionId": 30761,
   "isGpuEnabled": false,
   "isInternetEnabled": true,
   "language": "python",
   "sourceType": "notebook"
  },
  "kernelspec": {
   "display_name": "Python 3",
   "language": "python",
   "name": "python3"
  },
  "language_info": {
   "codemirror_mode": {
    "name": "ipython",
    "version": 3
   },
   "file_extension": ".py",
   "mimetype": "text/x-python",
   "name": "python",
   "nbconvert_exporter": "python",
   "pygments_lexer": "ipython3",
   "version": "3.10.14"
  },
  "papermill": {
   "default_parameters": {},
   "duration": 38.200132,
   "end_time": "2024-09-19T19:20:21.942476",
   "environment_variables": {},
   "exception": null,
   "input_path": "__notebook__.ipynb",
   "output_path": "__notebook__.ipynb",
   "parameters": {},
   "start_time": "2024-09-19T19:19:43.742344",
   "version": "2.6.0"
  }
 },
 "nbformat": 4,
 "nbformat_minor": 5
}
