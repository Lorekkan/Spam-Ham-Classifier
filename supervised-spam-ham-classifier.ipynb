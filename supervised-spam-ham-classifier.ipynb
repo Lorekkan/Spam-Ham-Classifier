{
 "cells": [
  {
   "cell_type": "code",
   "execution_count": 1,
   "id": "354d40c7",
   "metadata": {
    "_cell_guid": "b1076dfc-b9ad-4769-8c92-a6c4dae69d19",
    "_uuid": "8f2839f25d086af736a60e9eeb907d3b93b6e0e5",
    "execution": {
     "iopub.execute_input": "2024-09-19T15:08:24.547293Z",
     "iopub.status.busy": "2024-09-19T15:08:24.546824Z",
     "iopub.status.idle": "2024-09-19T15:08:25.012012Z",
     "shell.execute_reply": "2024-09-19T15:08:25.010909Z"
    },
    "papermill": {
     "duration": 0.481007,
     "end_time": "2024-09-19T15:08:25.015831",
     "exception": false,
     "start_time": "2024-09-19T15:08:24.534824",
     "status": "completed"
    },
    "tags": []
   },
   "outputs": [
    {
     "name": "stdout",
     "output_type": "stream",
     "text": [
      "/kaggle/input/spam-or-ham-a-dataset-for-email-classification/dataset/enron3.csv\n",
      "/kaggle/input/spam-or-ham-a-dataset-for-email-classification/dataset/enron2.csv\n",
      "/kaggle/input/spam-or-ham-a-dataset-for-email-classification/dataset/enron1.csv\n",
      "/kaggle/input/spam-or-ham-a-dataset-for-email-classification/dataset/enron4.csv\n",
      "/kaggle/input/spam-or-ham-a-dataset-for-email-classification/dataset/enron5.csv\n",
      "/kaggle/input/spam-or-ham-a-dataset-for-email-classification/dataset/enron6.csv\n",
      "/kaggle/input/spam-or-ham-a-dataset-for-email-classification/dataset/combined_enron.csv\n"
     ]
    }
   ],
   "source": [
    "# This Python 3 environment comes with many helpful analytics libraries installed\n",
    "# It is defined by the kaggle/python Docker image: https://github.com/kaggle/docker-python\n",
    "# For example, here's several helpful packages to load\n",
    "\n",
    "import numpy as np # linear algebra\n",
    "import pandas as pd # data processing, CSV file I/O (e.g. pd.read_csv)\n",
    "\n",
    "# Input data files are available in the read-only \"../input/\" directory\n",
    "# For example, running this (by clicking run or pressing Shift+Enter) will list all files under the input directory\n",
    "\n",
    "import os\n",
    "for dirname, _, filenames in os.walk('/kaggle/input'):\n",
    "    for filename in filenames:\n",
    "        print(os.path.join(dirname, filename))\n",
    "\n",
    "# You can write up to 20GB to the current directory (/kaggle/working/) that gets preserved as output when you create a version using \"Save & Run All\" \n",
    "# You can also write temporary files to /kaggle/temp/, but they won't be saved outside of the current session"
   ]
  },
  {
   "cell_type": "markdown",
   "id": "f7806284",
   "metadata": {
    "papermill": {
     "duration": 0.00941,
     "end_time": "2024-09-19T15:08:25.037033",
     "exception": false,
     "start_time": "2024-09-19T15:08:25.027623",
     "status": "completed"
    },
    "tags": []
   },
   "source": [
    "# Imports\n",
    "Firstly, all necessary libraries are imported."
   ]
  },
  {
   "cell_type": "code",
   "execution_count": 2,
   "id": "4959e027",
   "metadata": {
    "execution": {
     "iopub.execute_input": "2024-09-19T15:08:25.058007Z",
     "iopub.status.busy": "2024-09-19T15:08:25.057456Z",
     "iopub.status.idle": "2024-09-19T15:08:27.171007Z",
     "shell.execute_reply": "2024-09-19T15:08:27.170017Z"
    },
    "papermill": {
     "duration": 2.127099,
     "end_time": "2024-09-19T15:08:27.173762",
     "exception": false,
     "start_time": "2024-09-19T15:08:25.046663",
     "status": "completed"
    },
    "tags": []
   },
   "outputs": [],
   "source": [
    "import matplotlib.pyplot as plt\n",
    "import seaborn as sns\n",
    "from sklearn.feature_extraction.text import CountVectorizer\n",
    "from sklearn.naive_bayes import MultinomialNB\n",
    "from sklearn.model_selection import train_test_split, GridSearchCV\n",
    "from sklearn.metrics import classification_report, confusion_matrix\n",
    "from sklearn.neighbors import KNeighborsClassifier\n",
    "from sklearn.pipeline import Pipeline"
   ]
  },
  {
   "cell_type": "markdown",
   "id": "a2484225",
   "metadata": {
    "papermill": {
     "duration": 0.010449,
     "end_time": "2024-09-19T15:08:27.194464",
     "exception": false,
     "start_time": "2024-09-19T15:08:27.184015",
     "status": "completed"
    },
    "tags": []
   },
   "source": [
    "# Data Retrieval\n",
    "We retrieve e-mail data for spam and ham classification with the help of pandas library."
   ]
  },
  {
   "cell_type": "code",
   "execution_count": 3,
   "id": "4e2c4dd2",
   "metadata": {
    "execution": {
     "iopub.execute_input": "2024-09-19T15:08:27.216419Z",
     "iopub.status.busy": "2024-09-19T15:08:27.215140Z",
     "iopub.status.idle": "2024-09-19T15:08:28.471240Z",
     "shell.execute_reply": "2024-09-19T15:08:28.470282Z"
    },
    "papermill": {
     "duration": 1.269615,
     "end_time": "2024-09-19T15:08:28.473892",
     "exception": false,
     "start_time": "2024-09-19T15:08:27.204277",
     "status": "completed"
    },
    "tags": []
   },
   "outputs": [],
   "source": [
    "df = pd.read_csv(\"/kaggle/input/spam-or-ham-a-dataset-for-email-classification/dataset/combined_enron.csv\")"
   ]
  },
  {
   "cell_type": "markdown",
   "id": "8b8d6237",
   "metadata": {
    "papermill": {
     "duration": 0.009486,
     "end_time": "2024-09-19T15:08:28.493161",
     "exception": false,
     "start_time": "2024-09-19T15:08:28.483675",
     "status": "completed"
    },
    "tags": []
   },
   "source": [
    "# Numerical EDA"
   ]
  },
  {
   "cell_type": "code",
   "execution_count": 4,
   "id": "cf59a6e8",
   "metadata": {
    "execution": {
     "iopub.execute_input": "2024-09-19T15:08:28.514043Z",
     "iopub.status.busy": "2024-09-19T15:08:28.513594Z",
     "iopub.status.idle": "2024-09-19T15:08:28.553797Z",
     "shell.execute_reply": "2024-09-19T15:08:28.552625Z"
    },
    "papermill": {
     "duration": 0.053733,
     "end_time": "2024-09-19T15:08:28.556526",
     "exception": false,
     "start_time": "2024-09-19T15:08:28.502793",
     "status": "completed"
    },
    "tags": []
   },
   "outputs": [
    {
     "name": "stdout",
     "output_type": "stream",
     "text": [
      "<class 'pandas.core.frame.DataFrame'>\n",
      "RangeIndex: 33702 entries, 0 to 33701\n",
      "Data columns (total 3 columns):\n",
      " #   Column     Non-Null Count  Dtype \n",
      "---  ------     --------------  ----- \n",
      " 0   label      33702 non-null  object\n",
      " 1   label_num  33702 non-null  int64 \n",
      " 2   text       33702 non-null  object\n",
      "dtypes: int64(1), object(2)\n",
      "memory usage: 790.0+ KB\n"
     ]
    }
   ],
   "source": [
    "df.info()"
   ]
  },
  {
   "cell_type": "markdown",
   "id": "e6392d86",
   "metadata": {
    "papermill": {
     "duration": 0.00928,
     "end_time": "2024-09-19T15:08:28.575813",
     "exception": false,
     "start_time": "2024-09-19T15:08:28.566533",
     "status": "completed"
    },
    "tags": []
   },
   "source": [
    "We have 33702 e-mail entries. Each e-mail entry has 3 cloumns. \"label\" column keeps the spam-ham classification. \"label_num\" column also keeps the spam-ham classification but in integer format as 1 representing spam and 0 representing ham. \"text\" column keeps the contents of the e-mail."
   ]
  },
  {
   "cell_type": "code",
   "execution_count": 5,
   "id": "6140f162",
   "metadata": {
    "execution": {
     "iopub.execute_input": "2024-09-19T15:08:28.597378Z",
     "iopub.status.busy": "2024-09-19T15:08:28.596911Z",
     "iopub.status.idle": "2024-09-19T15:08:28.623738Z",
     "shell.execute_reply": "2024-09-19T15:08:28.622521Z"
    },
    "papermill": {
     "duration": 0.040606,
     "end_time": "2024-09-19T15:08:28.626223",
     "exception": false,
     "start_time": "2024-09-19T15:08:28.585617",
     "status": "completed"
    },
    "tags": []
   },
   "outputs": [
    {
     "data": {
      "text/html": [
       "<div>\n",
       "<style scoped>\n",
       "    .dataframe tbody tr th:only-of-type {\n",
       "        vertical-align: middle;\n",
       "    }\n",
       "\n",
       "    .dataframe tbody tr th {\n",
       "        vertical-align: top;\n",
       "    }\n",
       "\n",
       "    .dataframe thead th {\n",
       "        text-align: right;\n",
       "    }\n",
       "</style>\n",
       "<table border=\"1\" class=\"dataframe\">\n",
       "  <thead>\n",
       "    <tr style=\"text-align: right;\">\n",
       "      <th></th>\n",
       "      <th>label_num</th>\n",
       "    </tr>\n",
       "  </thead>\n",
       "  <tbody>\n",
       "    <tr>\n",
       "      <th>count</th>\n",
       "      <td>33702.000000</td>\n",
       "    </tr>\n",
       "    <tr>\n",
       "      <th>mean</th>\n",
       "      <td>0.509080</td>\n",
       "    </tr>\n",
       "    <tr>\n",
       "      <th>std</th>\n",
       "      <td>0.499925</td>\n",
       "    </tr>\n",
       "    <tr>\n",
       "      <th>min</th>\n",
       "      <td>0.000000</td>\n",
       "    </tr>\n",
       "    <tr>\n",
       "      <th>25%</th>\n",
       "      <td>0.000000</td>\n",
       "    </tr>\n",
       "    <tr>\n",
       "      <th>50%</th>\n",
       "      <td>1.000000</td>\n",
       "    </tr>\n",
       "    <tr>\n",
       "      <th>75%</th>\n",
       "      <td>1.000000</td>\n",
       "    </tr>\n",
       "    <tr>\n",
       "      <th>max</th>\n",
       "      <td>1.000000</td>\n",
       "    </tr>\n",
       "  </tbody>\n",
       "</table>\n",
       "</div>"
      ],
      "text/plain": [
       "          label_num\n",
       "count  33702.000000\n",
       "mean       0.509080\n",
       "std        0.499925\n",
       "min        0.000000\n",
       "25%        0.000000\n",
       "50%        1.000000\n",
       "75%        1.000000\n",
       "max        1.000000"
      ]
     },
     "execution_count": 5,
     "metadata": {},
     "output_type": "execute_result"
    }
   ],
   "source": [
    "df.describe()"
   ]
  },
  {
   "cell_type": "markdown",
   "id": "741db647",
   "metadata": {
    "papermill": {
     "duration": 0.010058,
     "end_time": "2024-09-19T15:08:28.646784",
     "exception": false,
     "start_time": "2024-09-19T15:08:28.636726",
     "status": "completed"
    },
    "tags": []
   },
   "source": [
    "With the describe method from pandas library, we can observe that almost half of the dataset consists of spam e-mails and the majority of e-mails are spam."
   ]
  },
  {
   "cell_type": "code",
   "execution_count": 6,
   "id": "1d6516f2",
   "metadata": {
    "execution": {
     "iopub.execute_input": "2024-09-19T15:08:28.668645Z",
     "iopub.status.busy": "2024-09-19T15:08:28.668208Z",
     "iopub.status.idle": "2024-09-19T15:08:28.679330Z",
     "shell.execute_reply": "2024-09-19T15:08:28.678218Z"
    },
    "papermill": {
     "duration": 0.024797,
     "end_time": "2024-09-19T15:08:28.681649",
     "exception": false,
     "start_time": "2024-09-19T15:08:28.656852",
     "status": "completed"
    },
    "tags": []
   },
   "outputs": [
    {
     "data": {
      "text/html": [
       "<div>\n",
       "<style scoped>\n",
       "    .dataframe tbody tr th:only-of-type {\n",
       "        vertical-align: middle;\n",
       "    }\n",
       "\n",
       "    .dataframe tbody tr th {\n",
       "        vertical-align: top;\n",
       "    }\n",
       "\n",
       "    .dataframe thead th {\n",
       "        text-align: right;\n",
       "    }\n",
       "</style>\n",
       "<table border=\"1\" class=\"dataframe\">\n",
       "  <thead>\n",
       "    <tr style=\"text-align: right;\">\n",
       "      <th></th>\n",
       "      <th>label</th>\n",
       "      <th>label_num</th>\n",
       "      <th>text</th>\n",
       "    </tr>\n",
       "  </thead>\n",
       "  <tbody>\n",
       "    <tr>\n",
       "      <th>0</th>\n",
       "      <td>ham</td>\n",
       "      <td>0</td>\n",
       "      <td>subject fw weather sites this is the list of w...</td>\n",
       "    </tr>\n",
       "    <tr>\n",
       "      <th>1</th>\n",
       "      <td>spam</td>\n",
       "      <td>1</td>\n",
       "      <td>subject i cant believe the changma wow wow wow...</td>\n",
       "    </tr>\n",
       "    <tr>\n",
       "      <th>2</th>\n",
       "      <td>spam</td>\n",
       "      <td>1</td>\n",
       "      <td>subject 4 color printing special request addit...</td>\n",
       "    </tr>\n",
       "    <tr>\n",
       "      <th>3</th>\n",
       "      <td>spam</td>\n",
       "      <td>1</td>\n",
       "      <td>subject nobody can beat us poloponybreakaway i...</td>\n",
       "    </tr>\n",
       "    <tr>\n",
       "      <th>4</th>\n",
       "      <td>ham</td>\n",
       "      <td>0</td>\n",
       "      <td>subject energy extravaganza 2 weeks away energ...</td>\n",
       "    </tr>\n",
       "  </tbody>\n",
       "</table>\n",
       "</div>"
      ],
      "text/plain": [
       "  label  label_num                                               text\n",
       "0   ham          0  subject fw weather sites this is the list of w...\n",
       "1  spam          1  subject i cant believe the changma wow wow wow...\n",
       "2  spam          1  subject 4 color printing special request addit...\n",
       "3  spam          1  subject nobody can beat us poloponybreakaway i...\n",
       "4   ham          0  subject energy extravaganza 2 weeks away energ..."
      ]
     },
     "execution_count": 6,
     "metadata": {},
     "output_type": "execute_result"
    }
   ],
   "source": [
    "df.head()"
   ]
  },
  {
   "cell_type": "markdown",
   "id": "eb06acb3",
   "metadata": {
    "papermill": {
     "duration": 0.01018,
     "end_time": "2024-09-19T15:08:28.702282",
     "exception": false,
     "start_time": "2024-09-19T15:08:28.692102",
     "status": "completed"
    },
    "tags": []
   },
   "source": [
    "First 5 entries in the dataset are shown above as an example."
   ]
  },
  {
   "cell_type": "markdown",
   "id": "09a9e967",
   "metadata": {
    "papermill": {
     "duration": 0.010012,
     "end_time": "2024-09-19T15:08:28.723112",
     "exception": false,
     "start_time": "2024-09-19T15:08:28.713100",
     "status": "completed"
    },
    "tags": []
   },
   "source": [
    "# Visual EDA"
   ]
  },
  {
   "cell_type": "code",
   "execution_count": 7,
   "id": "1e1af378",
   "metadata": {
    "execution": {
     "iopub.execute_input": "2024-09-19T15:08:28.745418Z",
     "iopub.status.busy": "2024-09-19T15:08:28.744971Z",
     "iopub.status.idle": "2024-09-19T15:08:29.027768Z",
     "shell.execute_reply": "2024-09-19T15:08:29.026670Z"
    },
    "papermill": {
     "duration": 0.297012,
     "end_time": "2024-09-19T15:08:29.030363",
     "exception": false,
     "start_time": "2024-09-19T15:08:28.733351",
     "status": "completed"
    },
    "tags": []
   },
   "outputs": [
    {
     "data": {
      "image/png": "[encoded data removed]",
      "text/plain": [
       "<Figure size 640x480 with 1 Axes>"
      ]
     },
     "metadata": {},
     "output_type": "display_data"
    }
   ],
   "source": [
    "plt.figure()\n",
    "sns.countplot(x=\"label\", data=df, palette=\"RdBu\")\n",
    "plt.xticks([0, 1], [\"Ham\", \"Spam\"])\n",
    "plt.show()"
   ]
  },
  {
   "cell_type": "markdown",
   "id": "624e31d5",
   "metadata": {
    "papermill": {
     "duration": 0.010102,
     "end_time": "2024-09-19T15:08:29.051157",
     "exception": false,
     "start_time": "2024-09-19T15:08:29.041055",
     "status": "completed"
    },
    "tags": []
   },
   "source": [
    "With the help of visual EDA, we can conclude the same result with numerical EDA. There are a little more spam e-mails then ham e-mails. Also, there is no corrupted or unexpected data."
   ]
  },
  {
   "cell_type": "markdown",
   "id": "bc35315e",
   "metadata": {
    "papermill": {
     "duration": 0.010201,
     "end_time": "2024-09-19T15:08:29.071862",
     "exception": false,
     "start_time": "2024-09-19T15:08:29.061661",
     "status": "completed"
    },
    "tags": []
   },
   "source": [
    "# Data Preprocessing"
   ]
  },
  {
   "cell_type": "code",
   "execution_count": 8,
   "id": "210ca35d",
   "metadata": {
    "execution": {
     "iopub.execute_input": "2024-09-19T15:08:29.094921Z",
     "iopub.status.busy": "2024-09-19T15:08:29.094079Z",
     "iopub.status.idle": "2024-09-19T15:08:31.592749Z",
     "shell.execute_reply": "2024-09-19T15:08:31.591552Z"
    },
    "papermill": {
     "duration": 2.513273,
     "end_time": "2024-09-19T15:08:31.595528",
     "exception": false,
     "start_time": "2024-09-19T15:08:29.082255",
     "status": "completed"
    },
    "tags": []
   },
   "outputs": [],
   "source": [
    "for index, row in df.iterrows():\n",
    "    if row[\"label\"] == \"spam\" and row[\"label_num\"] != 1:\n",
    "        row[\"label_num\"] = 1\n",
    "        print(\"Changed\")\n",
    "    elif row[\"label\"] == \"ham\" and row[\"label_num\"] != 0:\n",
    "        row[\"label_num\"] = 0\n",
    "        print(\"Changed\")"
   ]
  },
  {
   "cell_type": "markdown",
   "id": "0122d049",
   "metadata": {
    "papermill": {
     "duration": 0.010123,
     "end_time": "2024-09-19T15:08:31.616256",
     "exception": false,
     "start_time": "2024-09-19T15:08:31.606133",
     "status": "completed"
    },
    "tags": []
   },
   "source": [
    "Just to be sure with the number labeling all rows are checked in a loop and changed if they are wrong for any reason. label_num data seems to be intact since \"Changed\" string hasn't been printed even once. Now we can safely remove the label column."
   ]
  },
  {
   "cell_type": "code",
   "execution_count": 9,
   "id": "4a2b9380",
   "metadata": {
    "execution": {
     "iopub.execute_input": "2024-09-19T15:08:31.639099Z",
     "iopub.status.busy": "2024-09-19T15:08:31.638634Z",
     "iopub.status.idle": "2024-09-19T15:08:31.654998Z",
     "shell.execute_reply": "2024-09-19T15:08:31.653839Z"
    },
    "papermill": {
     "duration": 0.030925,
     "end_time": "2024-09-19T15:08:31.657624",
     "exception": false,
     "start_time": "2024-09-19T15:08:31.626699",
     "status": "completed"
    },
    "tags": []
   },
   "outputs": [
    {
     "data": {
      "text/html": [
       "<div>\n",
       "<style scoped>\n",
       "    .dataframe tbody tr th:only-of-type {\n",
       "        vertical-align: middle;\n",
       "    }\n",
       "\n",
       "    .dataframe tbody tr th {\n",
       "        vertical-align: top;\n",
       "    }\n",
       "\n",
       "    .dataframe thead th {\n",
       "        text-align: right;\n",
       "    }\n",
       "</style>\n",
       "<table border=\"1\" class=\"dataframe\">\n",
       "  <thead>\n",
       "    <tr style=\"text-align: right;\">\n",
       "      <th></th>\n",
       "      <th>label_num</th>\n",
       "      <th>text</th>\n",
       "    </tr>\n",
       "  </thead>\n",
       "  <tbody>\n",
       "    <tr>\n",
       "      <th>0</th>\n",
       "      <td>0</td>\n",
       "      <td>subject fw weather sites this is the list of w...</td>\n",
       "    </tr>\n",
       "    <tr>\n",
       "      <th>1</th>\n",
       "      <td>1</td>\n",
       "      <td>subject i cant believe the changma wow wow wow...</td>\n",
       "    </tr>\n",
       "    <tr>\n",
       "      <th>2</th>\n",
       "      <td>1</td>\n",
       "      <td>subject 4 color printing special request addit...</td>\n",
       "    </tr>\n",
       "    <tr>\n",
       "      <th>3</th>\n",
       "      <td>1</td>\n",
       "      <td>subject nobody can beat us poloponybreakaway i...</td>\n",
       "    </tr>\n",
       "    <tr>\n",
       "      <th>4</th>\n",
       "      <td>0</td>\n",
       "      <td>subject energy extravaganza 2 weeks away energ...</td>\n",
       "    </tr>\n",
       "  </tbody>\n",
       "</table>\n",
       "</div>"
      ],
      "text/plain": [
       "   label_num                                               text\n",
       "0          0  subject fw weather sites this is the list of w...\n",
       "1          1  subject i cant believe the changma wow wow wow...\n",
       "2          1  subject 4 color printing special request addit...\n",
       "3          1  subject nobody can beat us poloponybreakaway i...\n",
       "4          0  subject energy extravaganza 2 weeks away energ..."
      ]
     },
     "execution_count": 9,
     "metadata": {},
     "output_type": "execute_result"
    }
   ],
   "source": [
    "df = df.drop(\"label\", axis=1)\n",
    "df.head()"
   ]
  },
  {
   "cell_type": "markdown",
   "id": "a4b9d194",
   "metadata": {
    "papermill": {
     "duration": 0.010319,
     "end_time": "2024-09-19T15:08:31.678927",
     "exception": false,
     "start_time": "2024-09-19T15:08:31.668608",
     "status": "completed"
    },
    "tags": []
   },
   "source": [
    "# Train-Test Split\n",
    "30% of our data is split as test data below."
   ]
  },
  {
   "cell_type": "code",
   "execution_count": 10,
   "id": "5745d27b",
   "metadata": {
    "execution": {
     "iopub.execute_input": "2024-09-19T15:08:31.702966Z",
     "iopub.status.busy": "2024-09-19T15:08:31.701945Z",
     "iopub.status.idle": "2024-09-19T15:08:31.714934Z",
     "shell.execute_reply": "2024-09-19T15:08:31.714002Z"
    },
    "papermill": {
     "duration": 0.027701,
     "end_time": "2024-09-19T15:08:31.717472",
     "exception": false,
     "start_time": "2024-09-19T15:08:31.689771",
     "status": "completed"
    },
    "tags": []
   },
   "outputs": [],
   "source": [
    "y = df[\"label_num\"]\n",
    "X = df[\"text\"]\n",
    "X_train, X_test, y_train, y_test = train_test_split(X, y, test_size=0.3, random_state=42)"
   ]
  },
  {
   "cell_type": "markdown",
   "id": "53006c67",
   "metadata": {
    "papermill": {
     "duration": 0.010407,
     "end_time": "2024-09-19T15:08:31.738695",
     "exception": false,
     "start_time": "2024-09-19T15:08:31.728288",
     "status": "completed"
    },
    "tags": []
   },
   "source": [
    "# CountVectorizer\n",
    "For this classification, I want to use how many times each word appears. So, all e-mail texts will be broken to their words by CountVectorizer method in scikit learn library."
   ]
  },
  {
   "cell_type": "code",
   "execution_count": 11,
   "id": "4963114b",
   "metadata": {
    "execution": {
     "iopub.execute_input": "2024-09-19T15:08:31.761755Z",
     "iopub.status.busy": "2024-09-19T15:08:31.761329Z",
     "iopub.status.idle": "2024-09-19T15:08:41.600891Z",
     "shell.execute_reply": "2024-09-19T15:08:41.599717Z"
    },
    "papermill": {
     "duration": 9.854282,
     "end_time": "2024-09-19T15:08:41.603689",
     "exception": false,
     "start_time": "2024-09-19T15:08:31.749407",
     "status": "completed"
    },
    "tags": []
   },
   "outputs": [],
   "source": [
    "cv = CountVectorizer()\n",
    "X_train_cv = cv.fit_transform(X_train)\n",
    "X_test_cv = cv.transform(X_test)"
   ]
  },
  {
   "cell_type": "markdown",
   "id": "e607866d",
   "metadata": {
    "papermill": {
     "duration": 0.010393,
     "end_time": "2024-09-19T15:08:41.625081",
     "exception": false,
     "start_time": "2024-09-19T15:08:41.614688",
     "status": "completed"
    },
    "tags": []
   },
   "source": [
    "# Multinomial Naive Bayes\n",
    "Train data is fit to Multinomial Naive Bayes classifier and test data is predicted using that model."
   ]
  },
  {
   "cell_type": "code",
   "execution_count": 12,
   "id": "316d6657",
   "metadata": {
    "execution": {
     "iopub.execute_input": "2024-09-19T15:08:41.648300Z",
     "iopub.status.busy": "2024-09-19T15:08:41.647857Z",
     "iopub.status.idle": "2024-09-19T15:08:42.037819Z",
     "shell.execute_reply": "2024-09-19T15:08:42.036602Z"
    },
    "papermill": {
     "duration": 0.404542,
     "end_time": "2024-09-19T15:08:42.040286",
     "exception": false,
     "start_time": "2024-09-19T15:08:41.635744",
     "status": "completed"
    },
    "tags": []
   },
   "outputs": [
    {
     "data": {
      "image/png": "[encoded data removed]",
      "text/plain": [
       "<Figure size 800x600 with 2 Axes>"
      ]
     },
     "metadata": {},
     "output_type": "display_data"
    },
    {
     "data": {
      "text/html": [
       "<div>\n",
       "<style scoped>\n",
       "    .dataframe tbody tr th:only-of-type {\n",
       "        vertical-align: middle;\n",
       "    }\n",
       "\n",
       "    .dataframe tbody tr th {\n",
       "        vertical-align: top;\n",
       "    }\n",
       "\n",
       "    .dataframe thead th {\n",
       "        text-align: right;\n",
       "    }\n",
       "</style>\n",
       "<table border=\"1\" class=\"dataframe\">\n",
       "  <thead>\n",
       "    <tr style=\"text-align: right;\">\n",
       "      <th></th>\n",
       "      <th>precision</th>\n",
       "      <th>recall</th>\n",
       "      <th>f1-score</th>\n",
       "      <th>support</th>\n",
       "    </tr>\n",
       "  </thead>\n",
       "  <tbody>\n",
       "    <tr>\n",
       "      <th>0</th>\n",
       "      <td>0.986699</td>\n",
       "      <td>0.987097</td>\n",
       "      <td>0.986898</td>\n",
       "      <td>4960.000000</td>\n",
       "    </tr>\n",
       "    <tr>\n",
       "      <th>1</th>\n",
       "      <td>0.987570</td>\n",
       "      <td>0.987187</td>\n",
       "      <td>0.987379</td>\n",
       "      <td>5151.000000</td>\n",
       "    </tr>\n",
       "    <tr>\n",
       "      <th>accuracy</th>\n",
       "      <td>0.987143</td>\n",
       "      <td>0.987143</td>\n",
       "      <td>0.987143</td>\n",
       "      <td>0.987143</td>\n",
       "    </tr>\n",
       "    <tr>\n",
       "      <th>macro avg</th>\n",
       "      <td>0.987135</td>\n",
       "      <td>0.987142</td>\n",
       "      <td>0.987138</td>\n",
       "      <td>10111.000000</td>\n",
       "    </tr>\n",
       "    <tr>\n",
       "      <th>weighted avg</th>\n",
       "      <td>0.987143</td>\n",
       "      <td>0.987143</td>\n",
       "      <td>0.987143</td>\n",
       "      <td>10111.000000</td>\n",
       "    </tr>\n",
       "  </tbody>\n",
       "</table>\n",
       "</div>"
      ],
      "text/plain": [
       "              precision    recall  f1-score       support\n",
       "0              0.986699  0.987097  0.986898   4960.000000\n",
       "1              0.987570  0.987187  0.987379   5151.000000\n",
       "accuracy       0.987143  0.987143  0.987143      0.987143\n",
       "macro avg      0.987135  0.987142  0.987138  10111.000000\n",
       "weighted avg   0.987143  0.987143  0.987143  10111.000000"
      ]
     },
     "execution_count": 12,
     "metadata": {},
     "output_type": "execute_result"
    }
   ],
   "source": [
    "multinomial_nb = MultinomialNB()\n",
    "multinomial_nb.fit(X_train_cv, y_train)\n",
    "y_pred = multinomial_nb.predict(X_test_cv)\n",
    "cm = confusion_matrix(y_test, y_pred)\n",
    "plt.figure(figsize=(8, 6))\n",
    "sns.heatmap(cm, annot=True, fmt='d', cmap='Blues', xticklabels=['Pred Ham', 'Pred Spam'], yticklabels=['True Ham', 'True Spam'])\n",
    "plt.xlabel('Predicted')\n",
    "plt.ylabel('True')\n",
    "plt.title('Confusion Matrix')\n",
    "plt.show()\n",
    "cr = classification_report(y_test,y_pred, output_dict=True)\n",
    "cr_df = pd.DataFrame(cr).transpose()\n",
    "cr_df"
   ]
  },
  {
   "cell_type": "markdown",
   "id": "a46720e5",
   "metadata": {
    "papermill": {
     "duration": 0.011325,
     "end_time": "2024-09-19T15:08:42.063441",
     "exception": false,
     "start_time": "2024-09-19T15:08:42.052116",
     "status": "completed"
    },
    "tags": []
   },
   "source": [
    "Multinomial Naive Bayes model predicted the labels with 99% accuracy. Confusion matrix and classification report are shown above."
   ]
  },
  {
   "cell_type": "markdown",
   "id": "22cd1909",
   "metadata": {
    "papermill": {
     "duration": 0.011584,
     "end_time": "2024-09-19T15:08:42.086638",
     "exception": false,
     "start_time": "2024-09-19T15:08:42.075054",
     "status": "completed"
    },
    "tags": []
   },
   "source": [
    "## Cross Validation for Multinomial Naive Bayes\n",
    "With grid search hyperparameter cross validation, we can find the best alpha value for this model. Alpha values are iterated through 0.1 to 5.0. It is observed that 0.1 is the best value for alpha."
   ]
  },
  {
   "cell_type": "code",
   "execution_count": 13,
   "id": "d7b9d4f1",
   "metadata": {
    "execution": {
     "iopub.execute_input": "2024-09-19T15:08:42.112130Z",
     "iopub.status.busy": "2024-09-19T15:08:42.111111Z",
     "iopub.status.idle": "2024-09-19T15:08:52.873587Z",
     "shell.execute_reply": "2024-09-19T15:08:52.872506Z"
    },
    "papermill": {
     "duration": 10.777903,
     "end_time": "2024-09-19T15:08:52.876249",
     "exception": false,
     "start_time": "2024-09-19T15:08:42.098346",
     "status": "completed"
    },
    "tags": []
   },
   "outputs": [
    {
     "name": "stdout",
     "output_type": "stream",
     "text": [
      "Best parameters found:  {'alpha': 0.1}\n",
      "Best score is:  0.9880462582108118\n"
     ]
    }
   ],
   "source": [
    "alpha = []\n",
    "for i in range(50):\n",
    "    alpha.append((i+1)/10)\n",
    "grid_param = {\"alpha\": alpha}\n",
    "grid_search = GridSearchCV(estimator=multinomial_nb, param_grid=grid_param, cv=5, scoring=\"accuracy\")\n",
    "grid_search.fit(X_train_cv, y_train)\n",
    "best_params = grid_search.best_params_\n",
    "print(\"Best parameters found: \", best_params)\n",
    "best_score = grid_search.best_score_\n",
    "print(\"Best score is: \", best_score)"
   ]
  },
  {
   "cell_type": "markdown",
   "id": "12e425e5",
   "metadata": {
    "papermill": {
     "duration": 0.011365,
     "end_time": "2024-09-19T15:08:52.899432",
     "exception": false,
     "start_time": "2024-09-19T15:08:52.888067",
     "status": "completed"
    },
    "tags": []
   },
   "source": [
    "# KNN\n",
    "Same data is used for KNN with 3 neighbours"
   ]
  },
  {
   "cell_type": "code",
   "execution_count": 14,
   "id": "3b93576b",
   "metadata": {
    "execution": {
     "iopub.execute_input": "2024-09-19T15:08:52.923954Z",
     "iopub.status.busy": "2024-09-19T15:08:52.923504Z",
     "iopub.status.idle": "2024-09-19T15:09:22.075811Z",
     "shell.execute_reply": "2024-09-19T15:09:22.074659Z"
    },
    "papermill": {
     "duration": 29.167471,
     "end_time": "2024-09-19T15:09:22.078384",
     "exception": false,
     "start_time": "2024-09-19T15:08:52.910913",
     "status": "completed"
    },
    "tags": []
   },
   "outputs": [
    {
     "data": {
      "image/png": "[encoded data removed]",
      "text/plain": [
       "<Figure size 800x600 with 2 Axes>"
      ]
     },
     "metadata": {},
     "output_type": "display_data"
    },
    {
     "data": {
      "text/html": [
       "<div>\n",
       "<style scoped>\n",
       "    .dataframe tbody tr th:only-of-type {\n",
       "        vertical-align: middle;\n",
       "    }\n",
       "\n",
       "    .dataframe tbody tr th {\n",
       "        vertical-align: top;\n",
       "    }\n",
       "\n",
       "    .dataframe thead th {\n",
       "        text-align: right;\n",
       "    }\n",
       "</style>\n",
       "<table border=\"1\" class=\"dataframe\">\n",
       "  <thead>\n",
       "    <tr style=\"text-align: right;\">\n",
       "      <th></th>\n",
       "      <th>precision</th>\n",
       "      <th>recall</th>\n",
       "      <th>f1-score</th>\n",
       "      <th>support</th>\n",
       "    </tr>\n",
       "  </thead>\n",
       "  <tbody>\n",
       "    <tr>\n",
       "      <th>0</th>\n",
       "      <td>0.945652</td>\n",
       "      <td>0.859476</td>\n",
       "      <td>0.900507</td>\n",
       "      <td>4960.000000</td>\n",
       "    </tr>\n",
       "    <tr>\n",
       "      <th>1</th>\n",
       "      <td>0.875602</td>\n",
       "      <td>0.952436</td>\n",
       "      <td>0.912405</td>\n",
       "      <td>5151.000000</td>\n",
       "    </tr>\n",
       "    <tr>\n",
       "      <th>accuracy</th>\n",
       "      <td>0.906834</td>\n",
       "      <td>0.906834</td>\n",
       "      <td>0.906834</td>\n",
       "      <td>0.906834</td>\n",
       "    </tr>\n",
       "    <tr>\n",
       "      <th>macro avg</th>\n",
       "      <td>0.910627</td>\n",
       "      <td>0.905956</td>\n",
       "      <td>0.906456</td>\n",
       "      <td>10111.000000</td>\n",
       "    </tr>\n",
       "    <tr>\n",
       "      <th>weighted avg</th>\n",
       "      <td>0.909966</td>\n",
       "      <td>0.906834</td>\n",
       "      <td>0.906568</td>\n",
       "      <td>10111.000000</td>\n",
       "    </tr>\n",
       "  </tbody>\n",
       "</table>\n",
       "</div>"
      ],
      "text/plain": [
       "              precision    recall  f1-score       support\n",
       "0              0.945652  0.859476  0.900507   4960.000000\n",
       "1              0.875602  0.952436  0.912405   5151.000000\n",
       "accuracy       0.906834  0.906834  0.906834      0.906834\n",
       "macro avg      0.910627  0.905956  0.906456  10111.000000\n",
       "weighted avg   0.909966  0.906834  0.906568  10111.000000"
      ]
     },
     "execution_count": 14,
     "metadata": {},
     "output_type": "execute_result"
    }
   ],
   "source": [
    "knn = KNeighborsClassifier(n_neighbors=3)\n",
    "knn.fit(X_train_cv, y_train)\n",
    "y_pred = knn.predict(X_test_cv)\n",
    "cm = confusion_matrix(y_test, y_pred)\n",
    "plt.figure(figsize=(8, 6))\n",
    "sns.heatmap(cm, annot=True, fmt='d', cmap='Blues', xticklabels=['Pred Ham', 'Pred Spam'], yticklabels=['True Ham', 'True Spam'])\n",
    "plt.xlabel('Predicted')\n",
    "plt.ylabel('True')\n",
    "plt.title('Confusion Matrix')\n",
    "plt.show()\n",
    "cr = classification_report(y_test,y_pred, output_dict=True)\n",
    "cr_df = pd.DataFrame(cr).transpose()\n",
    "cr_df"
   ]
  },
  {
   "cell_type": "markdown",
   "id": "c3284599",
   "metadata": {
    "papermill": {
     "duration": 0.012086,
     "end_time": "2024-09-19T15:09:22.102904",
     "exception": false,
     "start_time": "2024-09-19T15:09:22.090818",
     "status": "completed"
    },
    "tags": []
   },
   "source": [
    "KNN model predicted the labels with 91% accuracy. Confusion matrix and classification report are shown above."
   ]
  },
  {
   "cell_type": "markdown",
   "id": "b9f9c4fa",
   "metadata": {
    "papermill": {
     "duration": 0.011753,
     "end_time": "2024-09-19T15:09:22.126864",
     "exception": false,
     "start_time": "2024-09-19T15:09:22.115111",
     "status": "completed"
    },
    "tags": []
   },
   "source": [
    "## Cross Validation for KNN\n",
    "With grid search hyperparameter cross validation, we can find the best neighbor number value for this model. Neighbor number values are iterated through 1 to 10. Higher values could also be observed. Though, 10 is selected to decrease runtime a bit since KNN model runs slower than Naive Bayes model. It is observed that 1 is the best value for neighbor number."
   ]
  },
  {
   "cell_type": "code",
   "execution_count": 15,
   "id": "e69874ea",
   "metadata": {
    "execution": {
     "iopub.execute_input": "2024-09-19T15:09:22.153308Z",
     "iopub.status.busy": "2024-09-19T15:09:22.152852Z",
     "iopub.status.idle": "2024-09-19T15:17:27.624615Z",
     "shell.execute_reply": "2024-09-19T15:17:27.623476Z"
    },
    "papermill": {
     "duration": 485.500255,
     "end_time": "2024-09-19T15:17:27.639580",
     "exception": false,
     "start_time": "2024-09-19T15:09:22.139325",
     "status": "completed"
    },
    "tags": []
   },
   "outputs": [
    {
     "name": "stdout",
     "output_type": "stream",
     "text": [
      "Best parameters found:  {'knn__n_neighbors': 1}\n",
      "Best score is:  0.909584319106844\n"
     ]
    }
   ],
   "source": [
    "pipeline = Pipeline([('knn', KNeighborsClassifier())])\n",
    "grid_param = {'knn__n_neighbors': np.arange(1, 10)}\n",
    "grid_search = GridSearchCV(estimator=pipeline, param_grid=grid_param, cv=5, scoring=\"accuracy\")\n",
    "grid_search.fit(X_train_cv, y_train)\n",
    "best_params = grid_search.best_params_\n",
    "print(\"Best parameters found: \", best_params)\n",
    "best_score = grid_search.best_score_\n",
    "print(\"Best score is: \", best_score)"
   ]
  },
  {
   "cell_type": "markdown",
   "id": "28f5758a",
   "metadata": {
    "papermill": {
     "duration": 0.011938,
     "end_time": "2024-09-19T15:17:27.663642",
     "exception": false,
     "start_time": "2024-09-19T15:17:27.651704",
     "status": "completed"
    },
    "tags": []
   },
   "source": [
    "# Conclusion\n",
    "Multinomial Naive Bayes has more accuracy compared to KNN. Though, this doesn't necessarily mean it is a better model. 99% accuracy might be unrealistically high and it could possibly mean the model just memorizes which words appear in which kind of mails and determine the classes based on that information. It might not be too reliable. Best result was obtained with 0.1 which is default alpha value for this model. KNN also got a high accuracy score of 91%. This seems more reasonable at first glance. Initially, 3 was used as the neighbor number. However, KNN with 1 neighbor has slightly more accuracy compared to the one with 3 neighbors. This means mails tend to be similar with only a few of the other mails. Overall, lack of relation might be possible. More preprocessing such as removing certain words could be done to make the models more realistic. Though, that approach would need more analysis to be able to remove the correct words to not lose too much meaning. Due to the time constraints of words are not removed but it will be considered if future iterations are performed. One other note to make this project more realistic could be implementing a neural network to be able to also check the context of words. However, as a basic machine learning project, that idea is not suitable for this project and it is left to future more advanced projects."
   ]
  }
 ],
 "metadata": {
  "kaggle": {
   "accelerator": "none",
   "dataSources": [
    {
     "datasetId": 4998178,
     "sourceId": 8400519,
     "sourceType": "datasetVersion"
    }
   ],
   "dockerImageVersionId": 30761,
   "isGpuEnabled": false,
   "isInternetEnabled": false,
   "language": "python",
   "sourceType": "notebook"
  },
  "kernelspec": {
   "display_name": "Python 3",
   "language": "python",
   "name": "python3"
  },
  "language_info": {
   "codemirror_mode": {
    "name": "ipython",
    "version": 3
   },
   "file_extension": ".py",
   "mimetype": "text/x-python",
   "name": "python",
   "nbconvert_exporter": "python",
   "pygments_lexer": "ipython3",
   "version": "3.10.14"
  },
  "papermill": {
   "default_parameters": {},
   "duration": 546.703821,
   "end_time": "2024-09-19T15:17:28.398339",
   "environment_variables": {},
   "exception": null,
   "input_path": "__notebook__.ipynb",
   "output_path": "__notebook__.ipynb",
   "parameters": {},
   "start_time": "2024-09-19T15:08:21.694518",
   "version": "2.6.0"
  }
 },
 "nbformat": 4,
 "nbformat_minor": 5
}
